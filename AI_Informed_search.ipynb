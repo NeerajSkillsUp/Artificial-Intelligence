{
  "nbformat": 4,
  "nbformat_minor": 0,
  "metadata": {
    "colab": {
      "provenance": []
    },
    "kernelspec": {
      "name": "python3",
      "display_name": "Python 3"
    },
    "language_info": {
      "name": "python"
    }
  },
  "cells": [
    {
      "cell_type": "code",
      "execution_count": null,
      "metadata": {
        "colab": {
          "base_uri": "https://localhost:8080/"
        },
        "id": "ktcLGCUKDS8C",
        "outputId": "6a5338ff-ec67-4b43-b319-61dbc6182804"
      },
      "outputs": [
        {
          "output_type": "stream",
          "name": "stdout",
          "text": [
            "Solution: ['Right', 'Down', 'Right']\n"
          ]
        }
      ],
      "source": [
        "import heapq\n",
        "\n",
        "def best_first_search(start, goal):\n",
        "    heap = [(heuristic(start, goal), start, [])]\n",
        "    visited = set()\n",
        "\n",
        "    while heap:\n",
        "        _, state, path = heapq.heappop(heap)\n",
        "        if state == goal:\n",
        "            return path\n",
        "        if tuple(map(tuple, state)) in visited:\n",
        "            continue\n",
        "        visited.add(tuple(map(tuple, state)))\n",
        "\n",
        "        for move, child in get_children(state):\n",
        "            heapq.heappush(heap, (heuristic(child, goal), child, path + [move]))\n",
        "    return None\n",
        "\n",
        "def heuristic(state, goal):\n",
        "    return sum(1 for i in range(3) for j in range(3) if state[i][j] != goal[i][j] and state[i][j] != 0)\n",
        "\n",
        "def get_blank_pos(state):\n",
        "    for i in range(3):\n",
        "        for j in range(3):\n",
        "            if state[i][j] == 0:\n",
        "                return i, j\n",
        "\n",
        "def get_children(state):\n",
        "    children = []\n",
        "    i, j = get_blank_pos(state)\n",
        "    for di, dj, move in [(-1,0,'Up'), (1,0,'Down'), (0,-1,'Left'), (0,1,'Right')]:\n",
        "        if 0 <= i+di < 3 and 0 <= j+dj < 3:\n",
        "            new_state = [row[:] for row in state]\n",
        "            new_state[i][j], new_state[i+di][j+dj] = new_state[i+di][j+dj], new_state[i][j]\n",
        "            children.append((move, new_state))\n",
        "    return children\n",
        "\n",
        "# Example usage:\n",
        "start = [[1, 2, 3], [0, 4, 6], [7, 5, 8]]\n",
        "goal = [[1, 2, 3], [4, 5, 6], [7, 8, 0]]\n",
        "solution = best_first_search(start, goal)\n",
        "print(\"Solution:\", solution)"
      ]
    },
    {
      "cell_type": "code",
      "source": [
        "def hill_climbing(start, goal):\n",
        "    current = start\n",
        "    path = []\n",
        "\n",
        "    while True:\n",
        "        if current == goal:\n",
        "            return path\n",
        "\n",
        "        neighbors = []\n",
        "        for move, child in get_children(current):\n",
        "            neighbors.append((heuristic(child, goal), move, child))\n",
        "\n",
        "        if not neighbors:\n",
        "            return None  # Stuck\n",
        "\n",
        "        neighbors.sort()\n",
        "        best_h, best_move, best_child = neighbors[0]\n",
        "\n",
        "        if best_h >= heuristic(current, goal):\n",
        "            return None  # Local minimum\n",
        "\n",
        "        path.append(best_move)\n",
        "        current = best_child\n",
        "\n",
        "# Using same helper functions as Part 1\n",
        "start = [[1, 2, 3], [8, 0, 4], [7, 6, 5]]\n",
        "goal = [[2, 8, 1], [0, 4, 3], [7, 6, 5]]\n",
        "solution = hill_climbing(start, goal)\n",
        "print(\"Solution:\", solution)"
      ],
      "metadata": {
        "colab": {
          "base_uri": "https://localhost:8080/"
        },
        "id": "ethqNSpyD7RT",
        "outputId": "999f55a5-d67b-460b-ddd3-babda78f2d50"
      },
      "execution_count": null,
      "outputs": [
        {
          "output_type": "stream",
          "name": "stdout",
          "text": [
            "Solution: None\n"
          ]
        }
      ]
    },
    {
      "cell_type": "code",
      "source": [
        "def a_star_search(start, goal):\n",
        "    heap = [(heuristic_correct(start, goal), 0, start, [])]\n",
        "    visited = set()\n",
        "\n",
        "    while heap:\n",
        "        _, cost, state, path = heapq.heappop(heap)\n",
        "        if state == goal:\n",
        "            return path\n",
        "        if tuple(map(tuple, state)) in visited:\n",
        "            continue\n",
        "        visited.add(tuple(map(tuple, state)))\n",
        "\n",
        "        for move, child in get_children(state):\n",
        "            new_cost = cost + 1\n",
        "            heapq.heappush(heap, (new_cost + heuristic_correct(child, goal), new_cost, child, path + [move]))\n",
        "    return None\n",
        "\n",
        "def heuristic_correct(state, goal):\n",
        "    return 9 - sum(1 for i in range(3) for j in range(3) if state[i][j] == goal[i][j])\n",
        "\n",
        "# Using same get_children function from Part 1\n",
        "start = [[1, 2, 3], [8, 0, 4], [7, 6, 5]]\n",
        "goal = [[1, 2, 3], [8, 4, 0], [7, 6, 5]]\n",
        "solution = a_star_search(start, goal)\n",
        "print(\"Solution:\", solution)"
      ],
      "metadata": {
        "colab": {
          "base_uri": "https://localhost:8080/"
        },
        "id": "2UO6L4b8EA-Z",
        "outputId": "54fab324-15a7-49b9-cb1b-df9f8d0d884c"
      },
      "execution_count": null,
      "outputs": [
        {
          "output_type": "stream",
          "name": "stdout",
          "text": [
            "Solution: ['Right']\n"
          ]
        }
      ]
    },
    {
      "cell_type": "code",
      "source": [
        "def ao_star_search(start, goal):\n",
        "    # Simplified implementation - not full AO*\n",
        "    heap = [(heuristic(start, goal), start, [])]\n",
        "    visited = set()\n",
        "\n",
        "    while heap:\n",
        "        _, state, path = heapq.heappop(heap)\n",
        "        if state == goal:\n",
        "            return path\n",
        "        if tuple(map(tuple, state)) in visited:\n",
        "            continue\n",
        "        visited.add(tuple(map(tuple, state)))\n",
        "\n",
        "        children = get_children(state)\n",
        "        for move, child in sorted(children, key=lambda x: heuristic(x[1], goal)):\n",
        "            heapq.heappush(heap, (heuristic(child, goal), child, path + [move]))\n",
        "    return None\n",
        "\n",
        "# Using same helper functions as Part 1\n",
        "start = [[1, 2, 3], [0, 4, 6], [7, 5, 8]]\n",
        "goal = [[1, 2, 3], [4, 5, 6], [7, 8, 0]]\n",
        "solution = ao_star_search(start, goal)\n",
        "print(\"Solution:\", solution)"
      ],
      "metadata": {
        "colab": {
          "base_uri": "https://localhost:8080/"
        },
        "id": "EEBRq_F9EEv8",
        "outputId": "a9da6dfa-03e2-4f4d-96cc-f92ad0c9dc91"
      },
      "execution_count": null,
      "outputs": [
        {
          "output_type": "stream",
          "name": "stdout",
          "text": [
            "Solution: ['Right', 'Down', 'Right']\n"
          ]
        }
      ]
    }
  ]
}